{
 "cells": [
  {
   "cell_type": "markdown",
   "metadata": {},
   "source": [
    "## На складе лежат разные фрукты в разном количестве. Нужно написать функцию, которая на вход принимает любое количество названий фруктов и их количество, а возвращает общее количество фруктов на складе"
   ]
  },
  {
   "cell_type": "code",
   "execution_count": 8,
   "metadata": {},
   "outputs": [
    {
     "name": "stdout",
     "output_type": "stream",
     "text": [
      "{'banana ': ' 3', 'lemon ': ' 3', 'apple ': '4'}\n",
      "[' 3', ' 3', '4']\n"
     ]
    }
   ],
   "source": [
    "quantity_of_fruit_names = int(input('введите количество фруктов, по названиям и количеству которых хотите передать информацию'))\n",
    "fruits_dictionary = {}\n",
    "result= []\n",
    "for i in range(quantity_of_fruit_names):\n",
    "    Input_fruits_and_quantity = input('введите слова').split('-')\n",
    "    fruits_dictionary[Input_fruits_and_quantity[0]] = Input_fruits_and_quantity[1]\n",
    "for quantity in fruits_dictionary:\n",
    "    result.append(fruits_dictionary[quantity])\n",
    "print(fruits_dictionary)\n",
    "print(result)    \n",
    "\n"
   ]
  },
  {
   "cell_type": "markdown",
   "metadata": {},
   "source": [
    "## На складе лежат разные фрукты в разном количестве. Нужно написать функцию, которая на вход принимает любое количество названий фруктов и их количество, а возвращает общее количество фруктов на складе"
   ]
  },
  {
   "cell_type": "code",
   "execution_count": 11,
   "metadata": {},
   "outputs": [
    {
     "name": "stdout",
     "output_type": "stream",
     "text": [
      "{'a ': ' 2', 'b ': ' 4', 'c ': ' 5'}\n",
      "11\n"
     ]
    }
   ],
   "source": [
    "quantity_of_fruit_names = int(input('введите количество фруктов, по названиям и количеству которых хотите передать информацию'))\n",
    "fruits_dictionary = {}\n",
    "result= []\n",
    "summ_of_fruits = 0\n",
    "for i in range(quantity_of_fruit_names):\n",
    "    Input_fruits_and_quantity = input('введите слова').split('-')\n",
    "    fruits_dictionary[Input_fruits_and_quantity[0]] = Input_fruits_and_quantity[1]\n",
    "for quantity in fruits_dictionary:\n",
    "    result.append(int(fruits_dictionary[quantity]))\n",
    "    summ_of_fruits = sum(result)\n",
    "print(fruits_dictionary)\n",
    "print(summ_of_fruits)\n",
    "\n",
    "    "
   ]
  },
  {
   "cell_type": "markdown",
   "metadata": {},
   "source": [
    "## Дан список с затратами на рекламу. Но в данных есть ошибки, некоторые затраты имеют отрицательную величину. Удалите такие значения из списка и посчитайте суммарные затраты [100, 125, -90, 345, 655, -1, 0, 200]"
   ]
  },
  {
   "cell_type": "code",
   "execution_count": 12,
   "metadata": {},
   "outputs": [
    {
     "name": "stdout",
     "output_type": "stream",
     "text": [
      "1425\n"
     ]
    }
   ],
   "source": [
    "marketing_payments = [100, 125, -90, 345, 655, -1, 0, 200]\n",
    "print(sum(i for i in marketing_payments if i > 0))"
   ]
  },
  {
   "cell_type": "markdown",
   "metadata": {},
   "source": [
    "## Даны два списка.\n",
    "## Дата покупки\n",
    "## ['2021-09-14', '2021-12-15', '2021-09-08', '2021-12-05', '2021-10-09', '2021-09-30', '2021-12-22', '2021-11-29', '2021-12-24', '2021-11-26', '2021-10-27', '2021-12-18', '2021-11-09', '2021-11-23', '2021-09-27', '2021-10-02', '2021-12-27', '2021-09-20', '2021-12-13', '2021-11-01', '2021-11-09', '2021-12-06', '2021-12-08', '2021-10-09', '2021-10-31', '2021-09-30', '2021-11-09', '2021-12-13', '2021-10-26', '2021-12-09']\n",
    "## Суммы покупок по датам\n",
    "## [1270, 8413, 9028, 3703, 5739, 4095, 295, 4944, 5723, 3701, 4471, 651, 7037, 4274, 6275, 4988, 6930, 2971, 6592, 2004, 2822, 519, 3406, 2732, 5015, 2008, 316, 6333, 5700, 2887]"
   ]
  },
  {
   "cell_type": "markdown",
   "metadata": {},
   "source": [
    "### Найдите, какая выручка у компании в ноябре\n",
    "### Используйте list comprehensions"
   ]
  },
  {
   "cell_type": "code",
   "execution_count": 18,
   "metadata": {},
   "outputs": [
    {
     "name": "stdout",
     "output_type": "stream",
     "text": [
      "25098\n"
     ]
    }
   ],
   "source": [
    "\n",
    "\n",
    "dates = ['2021-09-14', '2021-12-15', '2021-09-08', '2021-12-05', '2021-10-09', '2021-09-30', '2021-12-22', '2021-11-29', '2021-12-24', '2021-11-26', '2021-10-27', '2021-12-18', '2021-11-09', '2021-11-23', '2021-09-27', '2021-10-02', '2021-12-27', '2021-09-20', '2021-12-13', '2021-11-01', '2021-11-09', '2021-12-06', '2021-12-08', '2021-10-09', '2021-10-31', '2021-09-30', '2021-11-09', '2021-12-13', '2021-10-26', '2021-12-09']\n",
    "\n",
    "revenue = [1270, 8413, 9028, 3703, 5739, 4095, 295, 4944, 5723, 3701, 4471, 651, 7037, 4274, 6275, 4988, 6930, 2971, 6592, 2004, 2822, 519, 3406, 2732, 5015, 2008, 316, 6333, 5700, 2887]\n",
    "\n",
    "\n",
    "\n",
    "print(sum([money for dates, money in zip(dates, revenue) if dates[5:7] == '11']))\n",
    "\n"
   ]
  },
  {
   "cell_type": "markdown",
   "metadata": {},
   "source": [
    "### Найдите выручку компании в зависимости от месяца\n",
    "### Для этого напишите функцию, которая на вход принимает список с датами и список с выручкой, а на выходе словарь, где ключи - это месяцы, а значения - это выручка.\n",
    "### Используйте аннотирование типов"
   ]
  },
  {
   "cell_type": "code",
   "execution_count": 19,
   "metadata": {},
   "outputs": [
    {
     "name": "stdout",
     "output_type": "stream",
     "text": [
      "{'09': 25647, '12': 45452, '10': 28645, '11': 25098}\n"
     ]
    }
   ],
   "source": [
    "def revenue_in_month(dates: list, revenues: list) -> dict:\n",
    "    result = {}\n",
    "    for d, m in zip(dates, revenues):\n",
    "        if d[5:7] in result.keys():\n",
    "            result[d[5:7]] = result[d[5:7]] + m\n",
    "        else:\n",
    "            result[d[5:7]] = m\n",
    "    return result\n",
    " \n",
    "print(revenue_in_month(dates, revenue))"
   ]
  }
 ],
 "metadata": {
  "kernelspec": {
   "display_name": "Python 3.10.8 64-bit (microsoft store)",
   "language": "python",
   "name": "python3"
  },
  "language_info": {
   "codemirror_mode": {
    "name": "ipython",
    "version": 3
   },
   "file_extension": ".py",
   "mimetype": "text/x-python",
   "name": "python",
   "nbconvert_exporter": "python",
   "pygments_lexer": "ipython3",
   "version": "3.10.8"
  },
  "orig_nbformat": 4,
  "vscode": {
   "interpreter": {
    "hash": "22e92cd554a40abb03f90726a08cafda4fa8f216c30f49cef0765c3c74cd3b4d"
   }
  }
 },
 "nbformat": 4,
 "nbformat_minor": 2
}
